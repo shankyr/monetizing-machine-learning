{
 "cells": [
  {
   "cell_type": "markdown",
   "metadata": {},
   "source": [
    "## What to Watch Next? Build an Interactive Movie Recommender Application using Singular Value Decomposition and Collaborative Filtering\n",
    "\n",
    "Note: you can install the requirements file for this notebook if you want to install all the libraries at once. Open a new terminal window, navigate to the folder with the \"requirements_jupyter.txt\" and run the following command:\n",
    "\n",
    "pip3 install -r requirements_jupyter.txt"
   ]
  },
  {
   "cell_type": "code",
   "execution_count": 2,
   "metadata": {},
   "outputs": [],
   "source": [
    "#!pip3 install -r requirements_jupyter.txt"
   ]
  },
  {
   "cell_type": "markdown",
   "metadata": {},
   "source": [
    "## Load ratings dataframe \n",
    "Download data:\n",
    "http://files.grouplens.org/datasets/movielens/ml-latest-small.zip"
   ]
  },
  {
   "cell_type": "code",
   "execution_count": 3,
   "metadata": {},
   "outputs": [
    {
     "name": "stdout",
     "output_type": "stream",
     "text": [
      "Shape: (100004, 4)\n"
     ]
    },
    {
     "data": {
      "text/html": [
       "<div>\n",
       "<style scoped>\n",
       "    .dataframe tbody tr th:only-of-type {\n",
       "        vertical-align: middle;\n",
       "    }\n",
       "\n",
       "    .dataframe tbody tr th {\n",
       "        vertical-align: top;\n",
       "    }\n",
       "\n",
       "    .dataframe thead th {\n",
       "        text-align: right;\n",
       "    }\n",
       "</style>\n",
       "<table border=\"1\" class=\"dataframe\">\n",
       "  <thead>\n",
       "    <tr style=\"text-align: right;\">\n",
       "      <th></th>\n",
       "      <th>userId</th>\n",
       "      <th>movieId</th>\n",
       "      <th>rating</th>\n",
       "      <th>timestamp</th>\n",
       "    </tr>\n",
       "  </thead>\n",
       "  <tbody>\n",
       "    <tr>\n",
       "      <th>99999</th>\n",
       "      <td>671</td>\n",
       "      <td>6268</td>\n",
       "      <td>2.5</td>\n",
       "      <td>1065579370</td>\n",
       "    </tr>\n",
       "    <tr>\n",
       "      <th>100000</th>\n",
       "      <td>671</td>\n",
       "      <td>6269</td>\n",
       "      <td>4.0</td>\n",
       "      <td>1065149201</td>\n",
       "    </tr>\n",
       "    <tr>\n",
       "      <th>100001</th>\n",
       "      <td>671</td>\n",
       "      <td>6365</td>\n",
       "      <td>4.0</td>\n",
       "      <td>1070940363</td>\n",
       "    </tr>\n",
       "    <tr>\n",
       "      <th>100002</th>\n",
       "      <td>671</td>\n",
       "      <td>6385</td>\n",
       "      <td>2.5</td>\n",
       "      <td>1070979663</td>\n",
       "    </tr>\n",
       "    <tr>\n",
       "      <th>100003</th>\n",
       "      <td>671</td>\n",
       "      <td>6565</td>\n",
       "      <td>3.5</td>\n",
       "      <td>1074784724</td>\n",
       "    </tr>\n",
       "  </tbody>\n",
       "</table>\n",
       "</div>"
      ],
      "text/plain": [
       "        userId  movieId  rating   timestamp\n",
       "99999      671     6268     2.5  1065579370\n",
       "100000     671     6269     4.0  1065149201\n",
       "100001     671     6365     4.0  1070940363\n",
       "100002     671     6385     2.5  1070979663\n",
       "100003     671     6565     3.5  1074784724"
      ]
     },
     "execution_count": 3,
     "metadata": {},
     "output_type": "execute_result"
    }
   ],
   "source": [
    "import matplotlib.pyplot as plt\n",
    "import seaborn as sns\n",
    "import numpy as np\n",
    "import pandas as pd\n",
    "\n",
    "ratings_df_raw = pd.read_csv('ml-latest-small/ratings.csv')\n",
    "ratings_df = ratings_df_raw.copy()\n",
    "print('Shape:', ratings_df.shape)\n",
    "ratings_df.tail()\n"
   ]
  },
  {
   "cell_type": "markdown",
   "metadata": {},
   "source": [
    "Fix timestamp column to be readable datetime "
   ]
  },
  {
   "cell_type": "code",
   "execution_count": 4,
   "metadata": {},
   "outputs": [
    {
     "data": {
      "text/plain": [
       "count                  100004\n",
       "unique                  78141\n",
       "top       2016-07-23 18:24:42\n",
       "freq                       87\n",
       "first     1995-01-09 17:16:49\n",
       "last      2016-10-16 23:27:24\n",
       "Name: timestamp, dtype: object"
      ]
     },
     "execution_count": 4,
     "metadata": {},
     "output_type": "execute_result"
    }
   ],
   "source": [
    "import datetime\n",
    "# change timestamp from seconds from Jan 1970 to a readable date time\n",
    "ratings_df['timestamp'] = [datetime.datetime.fromtimestamp(dt) for dt in ratings_df['timestamp'].values]\n",
    "ratings_df['timestamp'].describe()\n"
   ]
  },
  {
   "cell_type": "code",
   "execution_count": 5,
   "metadata": {},
   "outputs": [
    {
     "name": "stdout",
     "output_type": "stream",
     "text": [
      "<class 'pandas.core.frame.DataFrame'>\n",
      "RangeIndex: 100004 entries, 0 to 100003\n",
      "Data columns (total 4 columns):\n",
      "userId       100004 non-null int64\n",
      "movieId      100004 non-null int64\n",
      "rating       100004 non-null float64\n",
      "timestamp    100004 non-null datetime64[ns]\n",
      "dtypes: datetime64[ns](1), float64(1), int64(2)\n",
      "memory usage: 3.1 MB\n"
     ]
    }
   ],
   "source": [
    "ratings_df.info()"
   ]
  },
  {
   "cell_type": "code",
   "execution_count": 6,
   "metadata": {},
   "outputs": [
    {
     "data": {
      "text/html": [
       "<div>\n",
       "<style scoped>\n",
       "    .dataframe tbody tr th:only-of-type {\n",
       "        vertical-align: middle;\n",
       "    }\n",
       "\n",
       "    .dataframe tbody tr th {\n",
       "        vertical-align: top;\n",
       "    }\n",
       "\n",
       "    .dataframe thead th {\n",
       "        text-align: right;\n",
       "    }\n",
       "</style>\n",
       "<table border=\"1\" class=\"dataframe\">\n",
       "  <thead>\n",
       "    <tr style=\"text-align: right;\">\n",
       "      <th></th>\n",
       "      <th>userId</th>\n",
       "      <th>movieId</th>\n",
       "      <th>rating</th>\n",
       "    </tr>\n",
       "  </thead>\n",
       "  <tbody>\n",
       "    <tr>\n",
       "      <th>count</th>\n",
       "      <td>100004.000000</td>\n",
       "      <td>100004.000000</td>\n",
       "      <td>100004.000000</td>\n",
       "    </tr>\n",
       "    <tr>\n",
       "      <th>mean</th>\n",
       "      <td>347.011310</td>\n",
       "      <td>12548.664363</td>\n",
       "      <td>3.543608</td>\n",
       "    </tr>\n",
       "    <tr>\n",
       "      <th>std</th>\n",
       "      <td>195.163838</td>\n",
       "      <td>26369.198969</td>\n",
       "      <td>1.058064</td>\n",
       "    </tr>\n",
       "    <tr>\n",
       "      <th>min</th>\n",
       "      <td>1.000000</td>\n",
       "      <td>1.000000</td>\n",
       "      <td>0.500000</td>\n",
       "    </tr>\n",
       "    <tr>\n",
       "      <th>25%</th>\n",
       "      <td>182.000000</td>\n",
       "      <td>1028.000000</td>\n",
       "      <td>3.000000</td>\n",
       "    </tr>\n",
       "    <tr>\n",
       "      <th>50%</th>\n",
       "      <td>367.000000</td>\n",
       "      <td>2406.500000</td>\n",
       "      <td>4.000000</td>\n",
       "    </tr>\n",
       "    <tr>\n",
       "      <th>75%</th>\n",
       "      <td>520.000000</td>\n",
       "      <td>5418.000000</td>\n",
       "      <td>4.000000</td>\n",
       "    </tr>\n",
       "    <tr>\n",
       "      <th>max</th>\n",
       "      <td>671.000000</td>\n",
       "      <td>163949.000000</td>\n",
       "      <td>5.000000</td>\n",
       "    </tr>\n",
       "  </tbody>\n",
       "</table>\n",
       "</div>"
      ],
      "text/plain": [
       "              userId        movieId         rating\n",
       "count  100004.000000  100004.000000  100004.000000\n",
       "mean      347.011310   12548.664363       3.543608\n",
       "std       195.163838   26369.198969       1.058064\n",
       "min         1.000000       1.000000       0.500000\n",
       "25%       182.000000    1028.000000       3.000000\n",
       "50%       367.000000    2406.500000       4.000000\n",
       "75%       520.000000    5418.000000       4.000000\n",
       "max       671.000000  163949.000000       5.000000"
      ]
     },
     "execution_count": 6,
     "metadata": {},
     "output_type": "execute_result"
    }
   ],
   "source": [
    "ratings_df.describe()"
   ]
  },
  {
   "cell_type": "code",
   "execution_count": 7,
   "metadata": {},
   "outputs": [
    {
     "data": {
      "text/plain": [
       "9066"
      ]
     },
     "execution_count": 7,
     "metadata": {},
     "output_type": "execute_result"
    }
   ],
   "source": [
    "ratings_df.movieId.nunique()"
   ]
  },
  {
   "cell_type": "code",
   "execution_count": 6,
   "metadata": {},
   "outputs": [
    {
     "name": "stdout",
     "output_type": "stream",
     "text": [
      "Unique number of rated movies: 9066\n"
     ]
    }
   ],
   "source": [
    "print('Unique number of rated movies: %i' % len(set(ratings_df['movieId'])))"
   ]
  },
  {
   "cell_type": "code",
   "execution_count": 7,
   "metadata": {},
   "outputs": [
    {
     "name": "stdout",
     "output_type": "stream",
     "text": [
      "Unique user count with ratings: 671\n"
     ]
    }
   ],
   "source": [
    "print('Unique user count with ratings: %i' % len(set(ratings_df['userId'])))"
   ]
  },
  {
   "cell_type": "markdown",
   "metadata": {},
   "source": [
    "## Load movie dataframe "
   ]
  },
  {
   "cell_type": "code",
   "execution_count": 8,
   "metadata": {},
   "outputs": [
    {
     "name": "stdout",
     "output_type": "stream",
     "text": [
      "Shape: (9125, 3)\n"
     ]
    },
    {
     "data": {
      "text/html": [
       "<div>\n",
       "<style scoped>\n",
       "    .dataframe tbody tr th:only-of-type {\n",
       "        vertical-align: middle;\n",
       "    }\n",
       "\n",
       "    .dataframe tbody tr th {\n",
       "        vertical-align: top;\n",
       "    }\n",
       "\n",
       "    .dataframe thead th {\n",
       "        text-align: right;\n",
       "    }\n",
       "</style>\n",
       "<table border=\"1\" class=\"dataframe\">\n",
       "  <thead>\n",
       "    <tr style=\"text-align: right;\">\n",
       "      <th></th>\n",
       "      <th>movieId</th>\n",
       "      <th>title</th>\n",
       "      <th>genres</th>\n",
       "    </tr>\n",
       "  </thead>\n",
       "  <tbody>\n",
       "    <tr>\n",
       "      <th>9120</th>\n",
       "      <td>162672</td>\n",
       "      <td>Mohenjo Daro (2016)</td>\n",
       "      <td>Adventure|Drama|Romance</td>\n",
       "    </tr>\n",
       "    <tr>\n",
       "      <th>9121</th>\n",
       "      <td>163056</td>\n",
       "      <td>Shin Godzilla (2016)</td>\n",
       "      <td>Action|Adventure|Fantasy|Sci-Fi</td>\n",
       "    </tr>\n",
       "    <tr>\n",
       "      <th>9122</th>\n",
       "      <td>163949</td>\n",
       "      <td>The Beatles: Eight Days a Week - The Touring Y...</td>\n",
       "      <td>Documentary</td>\n",
       "    </tr>\n",
       "    <tr>\n",
       "      <th>9123</th>\n",
       "      <td>164977</td>\n",
       "      <td>The Gay Desperado (1936)</td>\n",
       "      <td>Comedy</td>\n",
       "    </tr>\n",
       "    <tr>\n",
       "      <th>9124</th>\n",
       "      <td>164979</td>\n",
       "      <td>Women of '69, Unboxed</td>\n",
       "      <td>Documentary</td>\n",
       "    </tr>\n",
       "  </tbody>\n",
       "</table>\n",
       "</div>"
      ],
      "text/plain": [
       "      movieId                                              title  \\\n",
       "9120   162672                                Mohenjo Daro (2016)   \n",
       "9121   163056                               Shin Godzilla (2016)   \n",
       "9122   163949  The Beatles: Eight Days a Week - The Touring Y...   \n",
       "9123   164977                           The Gay Desperado (1936)   \n",
       "9124   164979                              Women of '69, Unboxed   \n",
       "\n",
       "                               genres  \n",
       "9120          Adventure|Drama|Romance  \n",
       "9121  Action|Adventure|Fantasy|Sci-Fi  \n",
       "9122                      Documentary  \n",
       "9123                           Comedy  \n",
       "9124                      Documentary  "
      ]
     },
     "execution_count": 8,
     "metadata": {},
     "output_type": "execute_result"
    }
   ],
   "source": [
    "movies_df_raw = pd.read_csv('ml-latest-small/movies.csv')\n",
    "movies_df = movies_df_raw.copy()\n",
    "print('Shape:', movies_df.shape)\n",
    "movies_df.tail()"
   ]
  },
  {
   "cell_type": "code",
   "execution_count": 9,
   "metadata": {},
   "outputs": [
    {
     "name": "stdout",
     "output_type": "stream",
     "text": [
      "<class 'pandas.core.frame.DataFrame'>\n",
      "RangeIndex: 9125 entries, 0 to 9124\n",
      "Data columns (total 3 columns):\n",
      "movieId    9125 non-null int64\n",
      "title      9125 non-null object\n",
      "genres     9125 non-null object\n",
      "dtypes: int64(1), object(2)\n",
      "memory usage: 213.9+ KB\n"
     ]
    }
   ],
   "source": [
    "movies_df.info()"
   ]
  },
  {
   "cell_type": "code",
   "execution_count": 10,
   "metadata": {},
   "outputs": [
    {
     "data": {
      "text/html": [
       "<div>\n",
       "<style scoped>\n",
       "    .dataframe tbody tr th:only-of-type {\n",
       "        vertical-align: middle;\n",
       "    }\n",
       "\n",
       "    .dataframe tbody tr th {\n",
       "        vertical-align: top;\n",
       "    }\n",
       "\n",
       "    .dataframe thead th {\n",
       "        text-align: right;\n",
       "    }\n",
       "</style>\n",
       "<table border=\"1\" class=\"dataframe\">\n",
       "  <thead>\n",
       "    <tr style=\"text-align: right;\">\n",
       "      <th></th>\n",
       "      <th>movieId</th>\n",
       "    </tr>\n",
       "  </thead>\n",
       "  <tbody>\n",
       "    <tr>\n",
       "      <th>count</th>\n",
       "      <td>9125.000000</td>\n",
       "    </tr>\n",
       "    <tr>\n",
       "      <th>mean</th>\n",
       "      <td>31123.291836</td>\n",
       "    </tr>\n",
       "    <tr>\n",
       "      <th>std</th>\n",
       "      <td>40782.633604</td>\n",
       "    </tr>\n",
       "    <tr>\n",
       "      <th>min</th>\n",
       "      <td>1.000000</td>\n",
       "    </tr>\n",
       "    <tr>\n",
       "      <th>25%</th>\n",
       "      <td>2850.000000</td>\n",
       "    </tr>\n",
       "    <tr>\n",
       "      <th>50%</th>\n",
       "      <td>6290.000000</td>\n",
       "    </tr>\n",
       "    <tr>\n",
       "      <th>75%</th>\n",
       "      <td>56274.000000</td>\n",
       "    </tr>\n",
       "    <tr>\n",
       "      <th>max</th>\n",
       "      <td>164979.000000</td>\n",
       "    </tr>\n",
       "  </tbody>\n",
       "</table>\n",
       "</div>"
      ],
      "text/plain": [
       "             movieId\n",
       "count    9125.000000\n",
       "mean    31123.291836\n",
       "std     40782.633604\n",
       "min         1.000000\n",
       "25%      2850.000000\n",
       "50%      6290.000000\n",
       "75%     56274.000000\n",
       "max    164979.000000"
      ]
     },
     "execution_count": 10,
     "metadata": {},
     "output_type": "execute_result"
    }
   ],
   "source": [
    "movies_df.describe()"
   ]
  },
  {
   "cell_type": "code",
   "execution_count": 18,
   "metadata": {},
   "outputs": [
    {
     "data": {
      "image/png": "[encoded data removed]",
      "text/plain": [
       "<matplotlib.figure.Figure at 0x299b61f06d8>"
      ]
     },
     "metadata": {},
     "output_type": "display_data"
    }
   ],
   "source": [
    "ratings_df['userId'].plot.hist()\n",
    "plt.show()"
   ]
  },
  {
   "cell_type": "code",
   "execution_count": 19,
   "metadata": {},
   "outputs": [
    {
     "data": {
      "image/png": "[encoded data removed]",
      "text/plain": [
       "<matplotlib.figure.Figure at 0x299b61a2278>"
      ]
     },
     "metadata": {},
     "output_type": "display_data"
    }
   ],
   "source": [
    "# Top reviewers\n",
    "plt.plot(sorted(ratings_df['userId'].value_counts(normalize=False)), marker='o')\n",
    "plt.suptitle('Number of Reviews per UserId', fontsize=16)\n",
    "plt.xlabel('Reviewer User ID', fontsize=14)\n",
    "plt.ylabel('Number of Reviews', fontsize=14)\n",
    "plt.grid()\n",
    "plt.show()"
   ]
  },
  {
   "cell_type": "code",
   "execution_count": 20,
   "metadata": {},
   "outputs": [
    {
     "data": {
      "image/png": "[encoded data removed]",
      "text/plain": [
       "<matplotlib.figure.Figure at 0x299b62705f8>"
      ]
     },
     "metadata": {},
     "output_type": "display_data"
    }
   ],
   "source": [
    "# Rating category sums\n",
    "ratings_df['rating'].plot.hist()\n",
    "plt.suptitle('Rating Histogram', fontsize=16)\n",
    "plt.xlabel('Rating Category', fontsize=14)\n",
    "plt.ylabel('Rating Frequency', fontsize=14)\n",
    "plt.grid()\n",
    "plt.show()"
   ]
  },
  {
   "cell_type": "code",
   "execution_count": 21,
   "metadata": {},
   "outputs": [
    {
     "data": {
      "image/png": "[encoded data removed]",
      "text/plain": [
       "<matplotlib.figure.Figure at 0x299b7356048>"
      ]
     },
     "metadata": {},
     "output_type": "display_data"
    }
   ],
   "source": [
    "ratings_df['timestamp'].dt.year.plot.hist()\n",
    "plt.suptitle('Review Year Histogram')\n",
    "plt.xlabel('Year', fontsize=18)\n",
    "plt.ylabel('Review Frequency', fontsize=16)\n",
    "plt.grid()\n",
    "plt.show()"
   ]
  },
  {
   "cell_type": "markdown",
   "metadata": {},
   "source": [
    "## Overall Top Movie Genres"
   ]
  },
  {
   "cell_type": "code",
   "execution_count": 22,
   "metadata": {},
   "outputs": [
    {
     "data": {
      "image/png": "[encoded data removed]",
      "text/plain": [
       "<matplotlib.figure.Figure at 0x299b6226048>"
      ]
     },
     "metadata": {},
     "output_type": "display_data"
    }
   ],
   "source": [
    "top_genres = movies_df['genres'].value_counts(normalize=False)\n",
    "top_genres = top_genres[:20,]\n",
    "plt.figure(figsize=(20,5))\n",
    "sns.barplot(top_genres.index, top_genres.values, alpha=0.8)\n",
    "plt.title('Overall Top Movie Genres')\n",
    "plt.ylabel('Number of Occurrences', fontsize=12)\n",
    "plt.xlabel('Genres', fontsize=12)\n",
    "plt.xticks(rotation=45)\n",
    "plt.show()\n",
    " "
   ]
  },
  {
   "cell_type": "markdown",
   "metadata": {},
   "source": [
    "## Top Genres Count by Year Reviewed"
   ]
  },
  {
   "cell_type": "code",
   "execution_count": 23,
   "metadata": {},
   "outputs": [
    {
     "data": {
      "image/png": "[encoded data removed]",
      "text/plain": [
       "<matplotlib.figure.Figure at 0x299b6300e10>"
      ]
     },
     "metadata": {},
     "output_type": "display_data"
    }
   ],
   "source": [
    "# Top Movie Genres by Year\n",
    "# Get the user's data and merge in the movie information\n",
    "reviews_by_genres = pd.merge(movies_df, ratings_df, how = 'inner', on ='movieId') \n",
    "reviews_by_genres['year'] = reviews_by_genres['timestamp'].dt.year\n",
    "\n",
    "def top_category_count(x, n=1):\n",
    "    return x.value_counts().head(n)\n",
    "\n",
    "reviews_by_genres = reviews_by_genres.groupby(['year']).genres.apply(top_category_count).reset_index()\n",
    "reviews_by_genres\n",
    " \n",
    "plt.figure(figsize=(20,5))\n",
    "g = sns.barplot(reviews_by_genres['year'], reviews_by_genres['genres'], alpha=0.8)\n",
    "plt.title('Top Genres Count by Year Reviewed')\n",
    "plt.ylabel('Number of Occurrences', fontsize=12)\n",
    "plt.xlabel('Genres', fontsize=12)\n",
    "plt.xticks(rotation=45)\n",
    " \n",
    "  \n",
    "for index, row in reviews_by_genres.iterrows():\n",
    "    g.text(row.name,row.genres, row.level_1, ha=\"center\", rotation=45, color='blue', \n",
    "           verticalalignment='bottom', fontsize=10)\n",
    "\n",
    "plt.show()"
   ]
  },
  {
   "cell_type": "markdown",
   "metadata": {},
   "source": [
    "## Cleaning up Ratings and Movies"
   ]
  },
  {
   "cell_type": "code",
   "execution_count": 24,
   "metadata": {},
   "outputs": [
    {
     "data": {
      "text/html": [
       "<div>\n",
       "<style scoped>\n",
       "    .dataframe tbody tr th:only-of-type {\n",
       "        vertical-align: middle;\n",
       "    }\n",
       "\n",
       "    .dataframe tbody tr th {\n",
       "        vertical-align: top;\n",
       "    }\n",
       "\n",
       "    .dataframe thead th {\n",
       "        text-align: right;\n",
       "    }\n",
       "</style>\n",
       "<table border=\"1\" class=\"dataframe\">\n",
       "  <thead>\n",
       "    <tr style=\"text-align: right;\">\n",
       "      <th></th>\n",
       "      <th>movieId</th>\n",
       "      <th>title</th>\n",
       "      <th>genres</th>\n",
       "      <th>movieId_new</th>\n",
       "    </tr>\n",
       "  </thead>\n",
       "  <tbody>\n",
       "    <tr>\n",
       "      <th>9061</th>\n",
       "      <td>161944</td>\n",
       "      <td>The Last Brickmaker in America (2001)</td>\n",
       "      <td>Drama</td>\n",
       "      <td>9061</td>\n",
       "    </tr>\n",
       "    <tr>\n",
       "      <th>9062</th>\n",
       "      <td>162376</td>\n",
       "      <td>Stranger Things</td>\n",
       "      <td>Drama</td>\n",
       "      <td>9062</td>\n",
       "    </tr>\n",
       "    <tr>\n",
       "      <th>9063</th>\n",
       "      <td>162542</td>\n",
       "      <td>Rustom (2016)</td>\n",
       "      <td>Romance|Thriller</td>\n",
       "      <td>9063</td>\n",
       "    </tr>\n",
       "    <tr>\n",
       "      <th>9064</th>\n",
       "      <td>162672</td>\n",
       "      <td>Mohenjo Daro (2016)</td>\n",
       "      <td>Adventure|Drama|Romance</td>\n",
       "      <td>9064</td>\n",
       "    </tr>\n",
       "    <tr>\n",
       "      <th>9065</th>\n",
       "      <td>163949</td>\n",
       "      <td>The Beatles: Eight Days a Week - The Touring Y...</td>\n",
       "      <td>Documentary</td>\n",
       "      <td>9065</td>\n",
       "    </tr>\n",
       "  </tbody>\n",
       "</table>\n",
       "</div>"
      ],
      "text/plain": [
       "      movieId                                              title  \\\n",
       "9061   161944              The Last Brickmaker in America (2001)   \n",
       "9062   162376                                    Stranger Things   \n",
       "9063   162542                                      Rustom (2016)   \n",
       "9064   162672                                Mohenjo Daro (2016)   \n",
       "9065   163949  The Beatles: Eight Days a Week - The Touring Y...   \n",
       "\n",
       "                       genres  movieId_new  \n",
       "9061                    Drama         9061  \n",
       "9062                    Drama         9062  \n",
       "9063         Romance|Thriller         9063  \n",
       "9064  Adventure|Drama|Romance         9064  \n",
       "9065              Documentary         9065  "
      ]
     },
     "execution_count": 24,
     "metadata": {},
     "output_type": "execute_result"
    }
   ],
   "source": [
    "# fix all userIds and movieIds\n",
    "movies_df_raw = pd.read_csv('ml-latest-small/movies.csv')\n",
    "\n",
    "# remove timestamp from original ratings_df_raw\n",
    "ratings_df_raw = pd.read_csv('ml-latest-small/ratings.csv')\n",
    "ratings_df_raw = ratings_df_raw[['userId', 'movieId', 'rating']]\n",
    "\n",
    "# remove any movies not found in the ratings set\n",
    "movies_df_raw = movies_df_raw[movies_df_raw['movieId'].isin(ratings_df_raw['movieId'])]\n",
    "movies_df_raw.tail()\n",
    "\n",
    "movies_df_raw = movies_df_raw.reset_index(drop=True)\n",
    "movies_df_raw['movieId_new'] = movies_df_raw.index\n",
    "movies_df_raw.tail()"
   ]
  },
  {
   "cell_type": "code",
   "execution_count": 25,
   "metadata": {},
   "outputs": [
    {
     "data": {
      "text/html": [
       "<div>\n",
       "<style scoped>\n",
       "    .dataframe tbody tr th:only-of-type {\n",
       "        vertical-align: middle;\n",
       "    }\n",
       "\n",
       "    .dataframe tbody tr th {\n",
       "        vertical-align: top;\n",
       "    }\n",
       "\n",
       "    .dataframe thead th {\n",
       "        text-align: right;\n",
       "    }\n",
       "</style>\n",
       "<table border=\"1\" class=\"dataframe\">\n",
       "  <thead>\n",
       "    <tr style=\"text-align: right;\">\n",
       "      <th></th>\n",
       "      <th>userId</th>\n",
       "      <th>movieId</th>\n",
       "      <th>rating</th>\n",
       "    </tr>\n",
       "  </thead>\n",
       "  <tbody>\n",
       "    <tr>\n",
       "      <th>0</th>\n",
       "      <td>0</td>\n",
       "      <td>30</td>\n",
       "      <td>2.5</td>\n",
       "    </tr>\n",
       "    <tr>\n",
       "      <th>1</th>\n",
       "      <td>6</td>\n",
       "      <td>30</td>\n",
       "      <td>3.0</td>\n",
       "    </tr>\n",
       "    <tr>\n",
       "      <th>2</th>\n",
       "      <td>30</td>\n",
       "      <td>30</td>\n",
       "      <td>4.0</td>\n",
       "    </tr>\n",
       "    <tr>\n",
       "      <th>3</th>\n",
       "      <td>31</td>\n",
       "      <td>30</td>\n",
       "      <td>4.0</td>\n",
       "    </tr>\n",
       "    <tr>\n",
       "      <th>4</th>\n",
       "      <td>35</td>\n",
       "      <td>30</td>\n",
       "      <td>3.0</td>\n",
       "    </tr>\n",
       "  </tbody>\n",
       "</table>\n",
       "</div>"
      ],
      "text/plain": [
       "   userId  movieId  rating\n",
       "0       0       30     2.5\n",
       "1       6       30     3.0\n",
       "2      30       30     4.0\n",
       "3      31       30     4.0\n",
       "4      35       30     3.0"
      ]
     },
     "execution_count": 25,
     "metadata": {},
     "output_type": "execute_result"
    }
   ],
   "source": [
    "\n",
    "# make all ratings movieIds the same\n",
    "ratings_df_raw = ratings_df_raw.merge(movies_df_raw[['movieId', 'movieId_new']], on='movieId', how='inner') \n",
    "ratings_df_raw = ratings_df_raw[['userId',  'movieId_new', 'rating']]\n",
    "ratings_df_raw.columns = ['userId',  'movieId', 'rating']\n",
    "\n",
    "# clean up userids to start at 0 not 1\n",
    "ratings_df_raw['userId'] -= 1\n",
    "ratings_df = ratings_df_raw.copy()\n",
    "ratings_df.head()\n"
   ]
  },
  {
   "cell_type": "code",
   "execution_count": 26,
   "metadata": {},
   "outputs": [
    {
     "data": {
      "text/html": [
       "<div>\n",
       "<style scoped>\n",
       "    .dataframe tbody tr th:only-of-type {\n",
       "        vertical-align: middle;\n",
       "    }\n",
       "\n",
       "    .dataframe tbody tr th {\n",
       "        vertical-align: top;\n",
       "    }\n",
       "\n",
       "    .dataframe thead th {\n",
       "        text-align: right;\n",
       "    }\n",
       "</style>\n",
       "<table border=\"1\" class=\"dataframe\">\n",
       "  <thead>\n",
       "    <tr style=\"text-align: right;\">\n",
       "      <th></th>\n",
       "      <th>movieId</th>\n",
       "      <th>title</th>\n",
       "      <th>genres</th>\n",
       "    </tr>\n",
       "  </thead>\n",
       "  <tbody>\n",
       "    <tr>\n",
       "      <th>9061</th>\n",
       "      <td>9061</td>\n",
       "      <td>The Last Brickmaker in America (2001)</td>\n",
       "      <td>Drama</td>\n",
       "    </tr>\n",
       "    <tr>\n",
       "      <th>9062</th>\n",
       "      <td>9062</td>\n",
       "      <td>Stranger Things</td>\n",
       "      <td>Drama</td>\n",
       "    </tr>\n",
       "    <tr>\n",
       "      <th>9063</th>\n",
       "      <td>9063</td>\n",
       "      <td>Rustom (2016)</td>\n",
       "      <td>Romance|Thriller</td>\n",
       "    </tr>\n",
       "    <tr>\n",
       "      <th>9064</th>\n",
       "      <td>9064</td>\n",
       "      <td>Mohenjo Daro (2016)</td>\n",
       "      <td>Adventure|Drama|Romance</td>\n",
       "    </tr>\n",
       "    <tr>\n",
       "      <th>9065</th>\n",
       "      <td>9065</td>\n",
       "      <td>The Beatles: Eight Days a Week - The Touring Y...</td>\n",
       "      <td>Documentary</td>\n",
       "    </tr>\n",
       "  </tbody>\n",
       "</table>\n",
       "</div>"
      ],
      "text/plain": [
       "      movieId                                              title  \\\n",
       "9061     9061              The Last Brickmaker in America (2001)   \n",
       "9062     9062                                    Stranger Things   \n",
       "9063     9063                                      Rustom (2016)   \n",
       "9064     9064                                Mohenjo Daro (2016)   \n",
       "9065     9065  The Beatles: Eight Days a Week - The Touring Y...   \n",
       "\n",
       "                       genres  \n",
       "9061                    Drama  \n",
       "9062                    Drama  \n",
       "9063         Romance|Thriller  \n",
       "9064  Adventure|Drama|Romance  \n",
       "9065              Documentary  "
      ]
     },
     "execution_count": 26,
     "metadata": {},
     "output_type": "execute_result"
    }
   ],
   "source": [
    "\n",
    "movies_df_raw = movies_df_raw[['movieId_new', 'title', 'genres']]\n",
    "movies_df_raw.columns = ['movieId', 'title', 'genres']\n",
    "movies_df = movies_df_raw.copy()\n",
    "movies_df.tail()\n"
   ]
  },
  {
   "cell_type": "markdown",
   "metadata": {},
   "source": [
    "## Create genres list"
   ]
  },
  {
   "cell_type": "code",
   "execution_count": 19,
   "metadata": {},
   "outputs": [
    {
     "data": {
      "text/plain": [
       "['Any genres',\n",
       " 'Action',\n",
       " 'Adventure',\n",
       " 'Animation',\n",
       " 'Children',\n",
       " 'Comedy',\n",
       " 'Crime',\n",
       " 'Documentary',\n",
       " 'Drama',\n",
       " 'Fantasy',\n",
       " 'Film-Noir',\n",
       " 'Horror',\n",
       " 'IMAX',\n",
       " 'Musical',\n",
       " 'Mystery',\n",
       " 'Romance',\n",
       " 'Sci-Fi',\n",
       " 'Thriller',\n",
       " 'War',\n",
       " 'Western']"
      ]
     },
     "execution_count": 19,
     "metadata": {},
     "output_type": "execute_result"
    }
   ],
   "source": [
    "genres = movies_df['genres']\n",
    "genres = sorted(list(set([y for x in [gn.split('|') for gn in genres] for y in x])))\n",
    "genres[0] = 'Any genres'\n",
    "genres"
   ]
  },
  {
   "cell_type": "markdown",
   "metadata": {},
   "source": [
    "## Creating a matrix to quickly get recommendations"
   ]
  },
  {
   "cell_type": "code",
   "execution_count": 33,
   "metadata": {},
   "outputs": [
    {
     "name": "stdout",
     "output_type": "stream",
     "text": [
      "   userId  movieId  rating\n",
      "0       0       30     2.5\n",
      "1       6       30     3.0\n",
      "2      30       30     4.0\n",
      "3      31       30     4.0\n",
      "4      35       30     3.0\n",
      "unique users: 671\n",
      "unique movies: 9066\n"
     ]
    }
   ],
   "source": [
    "import scipy.sparse.linalg\n",
    "from sklearn.metrics import mean_absolute_error\n",
    "import scipy.sparse as sps\n",
    "\n",
    "# set userId and movieId as indexes in order to make them as x and y axis of sparse matrix\n",
    "ratings_df = ratings_df_raw.copy()\n",
    "print(ratings_df.head())\n",
    "print('unique users:', len(set(ratings_df['userId'])))\n",
    "print('unique movies:', len(set(ratings_df['movieId'])))"
   ]
  },
  {
   "cell_type": "code",
   "execution_count": 34,
   "metadata": {},
   "outputs": [
    {
     "data": {
      "text/html": [
       "<div>\n",
       "<style scoped>\n",
       "    .dataframe tbody tr th:only-of-type {\n",
       "        vertical-align: middle;\n",
       "    }\n",
       "\n",
       "    .dataframe tbody tr th {\n",
       "        vertical-align: top;\n",
       "    }\n",
       "\n",
       "    .dataframe thead th {\n",
       "        text-align: right;\n",
       "    }\n",
       "</style>\n",
       "<table border=\"1\" class=\"dataframe\">\n",
       "  <thead>\n",
       "    <tr style=\"text-align: right;\">\n",
       "      <th></th>\n",
       "      <th></th>\n",
       "      <th>rating</th>\n",
       "    </tr>\n",
       "    <tr>\n",
       "      <th>userId</th>\n",
       "      <th>movieId</th>\n",
       "      <th></th>\n",
       "    </tr>\n",
       "  </thead>\n",
       "  <tbody>\n",
       "    <tr>\n",
       "      <th>0</th>\n",
       "      <th>30</th>\n",
       "      <td>2.5</td>\n",
       "    </tr>\n",
       "    <tr>\n",
       "      <th>6</th>\n",
       "      <th>30</th>\n",
       "      <td>3.0</td>\n",
       "    </tr>\n",
       "    <tr>\n",
       "      <th>30</th>\n",
       "      <th>30</th>\n",
       "      <td>4.0</td>\n",
       "    </tr>\n",
       "    <tr>\n",
       "      <th>31</th>\n",
       "      <th>30</th>\n",
       "      <td>4.0</td>\n",
       "    </tr>\n",
       "    <tr>\n",
       "      <th>35</th>\n",
       "      <th>30</th>\n",
       "      <td>3.0</td>\n",
       "    </tr>\n",
       "  </tbody>\n",
       "</table>\n",
       "</div>"
      ],
      "text/plain": [
       "                rating\n",
       "userId movieId        \n",
       "0      30          2.5\n",
       "6      30          3.0\n",
       "30     30          4.0\n",
       "31     30          4.0\n",
       "35     30          3.0"
      ]
     },
     "execution_count": 34,
     "metadata": {},
     "output_type": "execute_result"
    }
   ],
   "source": [
    "ratings_df.set_index(['userId', 'movieId'], inplace=True)\n",
    "ratings_df.head()"
   ]
  },
  {
   "cell_type": "code",
   "execution_count": 46,
   "metadata": {},
   "outputs": [],
   "source": [
    "ratings_matrix = sps.csr_matrix((ratings_df.rating, \n",
    "                      (ratings_df.index.labels[0], ratings_df.index.labels[1]))).todense()"
   ]
  },
  {
   "cell_type": "code",
   "execution_count": 49,
   "metadata": {},
   "outputs": [
    {
     "data": {
      "text/plain": [
       "(671, 9066)"
      ]
     },
     "execution_count": 49,
     "metadata": {},
     "output_type": "execute_result"
    }
   ],
   "source": [
    "ratings_matrix.shape"
   ]
  },
  {
   "cell_type": "code",
   "execution_count": 20,
   "metadata": {},
   "outputs": [
    {
     "name": "stdout",
     "output_type": "stream",
     "text": [
      "unique users: 671\n",
      "unique movies: 9066\n",
      "shape ratings_matrix: (671, 9066)\n"
     ]
    }
   ],
   "source": [
    "import scipy.sparse.linalg\n",
    "from sklearn.metrics import mean_absolute_error\n",
    "import scipy.sparse as sps\n",
    "\n",
    "# set userId and movieId as indexes in order to make them as x and y axis of sparse matrix\n",
    "ratings_df = ratings_df_raw.copy()\n",
    "print('unique users:', len(set(ratings_df['userId'])))\n",
    "print('unique movies:', len(set(ratings_df['movieId'])))\n",
    "\n",
    "ratings_df.set_index(['userId', 'movieId'], inplace=True)\n",
    "ratings_matrix = sps.csr_matrix((ratings_df.rating, \n",
    "                      (ratings_df.index.labels[0], ratings_df.index.labels[1]))).todense()\n",
    "\n",
    "print('shape ratings_matrix:', ratings_matrix.shape)\n"
   ]
  },
  {
   "cell_type": "code",
   "execution_count": 50,
   "metadata": {},
   "outputs": [
    {
     "data": {
      "text/plain": [
       "matrix([[0. ],\n",
       "        [0. ],\n",
       "        [0. ],\n",
       "        [0. ],\n",
       "        [0. ],\n",
       "        [0. ],\n",
       "        [3. ],\n",
       "        [0. ],\n",
       "        [4. ],\n",
       "        [0. ],\n",
       "        [0. ],\n",
       "        [0. ],\n",
       "        [5. ],\n",
       "        [0. ],\n",
       "        [2. ],\n",
       "        [0. ],\n",
       "        [0. ],\n",
       "        [0. ],\n",
       "        [3. ],\n",
       "        [3.5]])"
      ]
     },
     "execution_count": 50,
     "metadata": {},
     "output_type": "execute_result"
    }
   ],
   "source": [
    "# set our seed row of ratings using movie Toy Story\n",
    "movie_toy_story = (ratings_matrix[:,0])\n",
    "movie_toy_story[0:20]"
   ]
  },
  {
   "cell_type": "markdown",
   "metadata": {},
   "source": [
    " ## Euclidean Distance"
   ]
  },
  {
   "cell_type": "code",
   "execution_count": 51,
   "metadata": {},
   "outputs": [
    {
     "data": {
      "text/html": [
       "<div>\n",
       "<style scoped>\n",
       "    .dataframe tbody tr th:only-of-type {\n",
       "        vertical-align: middle;\n",
       "    }\n",
       "\n",
       "    .dataframe tbody tr th {\n",
       "        vertical-align: top;\n",
       "    }\n",
       "\n",
       "    .dataframe thead th {\n",
       "        text-align: right;\n",
       "    }\n",
       "</style>\n",
       "<table border=\"1\" class=\"dataframe\">\n",
       "  <thead>\n",
       "    <tr style=\"text-align: right;\">\n",
       "      <th></th>\n",
       "      <th>distance</th>\n",
       "      <th>movie</th>\n",
       "    </tr>\n",
       "  </thead>\n",
       "  <tbody>\n",
       "    <tr>\n",
       "      <th>0</th>\n",
       "      <td>0.000000</td>\n",
       "      <td>Toy Story (1995)</td>\n",
       "    </tr>\n",
       "    <tr>\n",
       "      <th>2506</th>\n",
       "      <td>50.882217</td>\n",
       "      <td>Toy Story 2 (1999)</td>\n",
       "    </tr>\n",
       "    <tr>\n",
       "      <th>1866</th>\n",
       "      <td>53.849327</td>\n",
       "      <td>Bug's Life, A (1998)</td>\n",
       "    </tr>\n",
       "    <tr>\n",
       "      <th>1019</th>\n",
       "      <td>54.904462</td>\n",
       "      <td>Groundhog Day (1993)</td>\n",
       "    </tr>\n",
       "    <tr>\n",
       "      <th>644</th>\n",
       "      <td>55.009090</td>\n",
       "      <td>Independence Day (a.k.a. ID4) (1996)</td>\n",
       "    </tr>\n",
       "    <tr>\n",
       "      <th>3803</th>\n",
       "      <td>55.056789</td>\n",
       "      <td>Monsters, Inc. (2001)</td>\n",
       "    </tr>\n",
       "    <tr>\n",
       "      <th>4604</th>\n",
       "      <td>55.522518</td>\n",
       "      <td>Finding Nemo (2003)</td>\n",
       "    </tr>\n",
       "    <tr>\n",
       "      <th>5611</th>\n",
       "      <td>55.709066</td>\n",
       "      <td>Incredibles, The (2004)</td>\n",
       "    </tr>\n",
       "    <tr>\n",
       "      <th>3419</th>\n",
       "      <td>56.333826</td>\n",
       "      <td>Shrek (2001)</td>\n",
       "    </tr>\n",
       "    <tr>\n",
       "      <th>866</th>\n",
       "      <td>56.643623</td>\n",
       "      <td>Willy Wonka &amp; the Chocolate Factory (1971)</td>\n",
       "    </tr>\n",
       "  </tbody>\n",
       "</table>\n",
       "</div>"
      ],
      "text/plain": [
       "       distance                                       movie\n",
       "0      0.000000                            Toy Story (1995)\n",
       "2506  50.882217                          Toy Story 2 (1999)\n",
       "1866  53.849327                        Bug's Life, A (1998)\n",
       "1019  54.904462                        Groundhog Day (1993)\n",
       "644   55.009090        Independence Day (a.k.a. ID4) (1996)\n",
       "3803  55.056789                       Monsters, Inc. (2001)\n",
       "4604  55.522518                         Finding Nemo (2003)\n",
       "5611  55.709066                     Incredibles, The (2004)\n",
       "3419  56.333826                                Shrek (2001)\n",
       "866   56.643623  Willy Wonka & the Chocolate Factory (1971)"
      ]
     },
     "execution_count": 51,
     "metadata": {},
     "output_type": "execute_result"
    }
   ],
   "source": [
    "\n",
    "distances_to_movie = []\n",
    "for other_movies in ratings_matrix.T:\n",
    "    distances_to_movie.append(scipy.spatial.distance.euclidean(movie_toy_story, other_movies.tolist()))\n",
    "     \n",
    "# create dataframe of movie and distance scores to Toy Story \n",
    "distances_to_movie = pd.DataFrame({'movie':movies_df['title'],'distance':distances_to_movie})\n",
    "\n",
    "# sort by ascending distance (i.e. closest to movie_toy_story)\n",
    "distances_to_movie = distances_to_movie.sort_values('distance')\n",
    "distances_to_movie.head(10)"
   ]
  },
  {
   "cell_type": "markdown",
   "metadata": {},
   "source": [
    "## Manhattan Distance"
   ]
  },
  {
   "cell_type": "code",
   "execution_count": 52,
   "metadata": {},
   "outputs": [
    {
     "data": {
      "text/html": [
       "<div>\n",
       "<style scoped>\n",
       "    .dataframe tbody tr th:only-of-type {\n",
       "        vertical-align: middle;\n",
       "    }\n",
       "\n",
       "    .dataframe tbody tr th {\n",
       "        vertical-align: top;\n",
       "    }\n",
       "\n",
       "    .dataframe thead th {\n",
       "        text-align: right;\n",
       "    }\n",
       "</style>\n",
       "<table border=\"1\" class=\"dataframe\">\n",
       "  <thead>\n",
       "    <tr style=\"text-align: right;\">\n",
       "      <th></th>\n",
       "      <th>distance</th>\n",
       "      <th>movie</th>\n",
       "    </tr>\n",
       "  </thead>\n",
       "  <tbody>\n",
       "    <tr>\n",
       "      <th>0</th>\n",
       "      <td>0.0</td>\n",
       "      <td>Toy Story (1995)</td>\n",
       "    </tr>\n",
       "    <tr>\n",
       "      <th>2506</th>\n",
       "      <td>676.0</td>\n",
       "      <td>Toy Story 2 (1999)</td>\n",
       "    </tr>\n",
       "    <tr>\n",
       "      <th>1866</th>\n",
       "      <td>764.5</td>\n",
       "      <td>Bug's Life, A (1998)</td>\n",
       "    </tr>\n",
       "    <tr>\n",
       "      <th>3803</th>\n",
       "      <td>783.5</td>\n",
       "      <td>Monsters, Inc. (2001)</td>\n",
       "    </tr>\n",
       "    <tr>\n",
       "      <th>4604</th>\n",
       "      <td>792.5</td>\n",
       "      <td>Finding Nemo (2003)</td>\n",
       "    </tr>\n",
       "    <tr>\n",
       "      <th>1019</th>\n",
       "      <td>798.0</td>\n",
       "      <td>Groundhog Day (1993)</td>\n",
       "    </tr>\n",
       "    <tr>\n",
       "      <th>5611</th>\n",
       "      <td>800.0</td>\n",
       "      <td>Incredibles, The (2004)</td>\n",
       "    </tr>\n",
       "    <tr>\n",
       "      <th>3419</th>\n",
       "      <td>814.0</td>\n",
       "      <td>Shrek (2001)</td>\n",
       "    </tr>\n",
       "    <tr>\n",
       "      <th>866</th>\n",
       "      <td>825.0</td>\n",
       "      <td>Willy Wonka &amp; the Chocolate Factory (1971)</td>\n",
       "    </tr>\n",
       "    <tr>\n",
       "      <th>644</th>\n",
       "      <td>826.0</td>\n",
       "      <td>Independence Day (a.k.a. ID4) (1996)</td>\n",
       "    </tr>\n",
       "  </tbody>\n",
       "</table>\n",
       "</div>"
      ],
      "text/plain": [
       "      distance                                       movie\n",
       "0          0.0                            Toy Story (1995)\n",
       "2506     676.0                          Toy Story 2 (1999)\n",
       "1866     764.5                        Bug's Life, A (1998)\n",
       "3803     783.5                       Monsters, Inc. (2001)\n",
       "4604     792.5                         Finding Nemo (2003)\n",
       "1019     798.0                        Groundhog Day (1993)\n",
       "5611     800.0                     Incredibles, The (2004)\n",
       "3419     814.0                                Shrek (2001)\n",
       "866      825.0  Willy Wonka & the Chocolate Factory (1971)\n",
       "644      826.0        Independence Day (a.k.a. ID4) (1996)"
      ]
     },
     "execution_count": 52,
     "metadata": {},
     "output_type": "execute_result"
    }
   ],
   "source": [
    "distances_to_movie = []\n",
    "for other_movies in ratings_matrix.T:\n",
    "    distances_to_movie.append(scipy.spatial.distance.cityblock(movie_toy_story, other_movies.tolist()))\n",
    "     \n",
    "# create dataframe of movie and distance scores to Toy Story \n",
    "distances_to_movie = pd.DataFrame({'movie':movies_df['title'],'distance':distances_to_movie})\n",
    "\n",
    "# sort by ascending distance - i.e. closest to movie_toy_story\n",
    "distances_to_movie = distances_to_movie.sort_values('distance')\n",
    "distances_to_movie.head(10)"
   ]
  },
  {
   "cell_type": "markdown",
   "metadata": {},
   "source": [
    "## Jaccard distance"
   ]
  },
  {
   "cell_type": "code",
   "execution_count": 53,
   "metadata": {},
   "outputs": [
    {
     "data": {
      "text/html": [
       "<div>\n",
       "<style scoped>\n",
       "    .dataframe tbody tr th:only-of-type {\n",
       "        vertical-align: middle;\n",
       "    }\n",
       "\n",
       "    .dataframe tbody tr th {\n",
       "        vertical-align: top;\n",
       "    }\n",
       "\n",
       "    .dataframe thead th {\n",
       "        text-align: right;\n",
       "    }\n",
       "</style>\n",
       "<table border=\"1\" class=\"dataframe\">\n",
       "  <thead>\n",
       "    <tr style=\"text-align: right;\">\n",
       "      <th></th>\n",
       "      <th>distance</th>\n",
       "      <th>movie</th>\n",
       "    </tr>\n",
       "  </thead>\n",
       "  <tbody>\n",
       "    <tr>\n",
       "      <th>0</th>\n",
       "      <td>0.000000</td>\n",
       "      <td>Toy Story (1995)</td>\n",
       "    </tr>\n",
       "    <tr>\n",
       "      <th>2506</th>\n",
       "      <td>0.800738</td>\n",
       "      <td>Toy Story 2 (1999)</td>\n",
       "    </tr>\n",
       "    <tr>\n",
       "      <th>232</th>\n",
       "      <td>0.858289</td>\n",
       "      <td>Star Wars: Episode IV - A New Hope (1977)</td>\n",
       "    </tr>\n",
       "    <tr>\n",
       "      <th>955</th>\n",
       "      <td>0.860058</td>\n",
       "      <td>Raiders of the Lost Ark (Indiana Jones and the...</td>\n",
       "    </tr>\n",
       "    <tr>\n",
       "      <th>1024</th>\n",
       "      <td>0.870206</td>\n",
       "      <td>Back to the Future (1985)</td>\n",
       "    </tr>\n",
       "    <tr>\n",
       "      <th>328</th>\n",
       "      <td>0.872727</td>\n",
       "      <td>Lion King, The (1994)</td>\n",
       "    </tr>\n",
       "    <tr>\n",
       "      <th>866</th>\n",
       "      <td>0.874576</td>\n",
       "      <td>Willy Wonka &amp; the Chocolate Factory (1971)</td>\n",
       "    </tr>\n",
       "    <tr>\n",
       "      <th>966</th>\n",
       "      <td>0.875371</td>\n",
       "      <td>Star Wars: Episode VI - Return of the Jedi (1983)</td>\n",
       "    </tr>\n",
       "    <tr>\n",
       "      <th>3419</th>\n",
       "      <td>0.875817</td>\n",
       "      <td>Shrek (2001)</td>\n",
       "    </tr>\n",
       "    <tr>\n",
       "      <th>427</th>\n",
       "      <td>0.877005</td>\n",
       "      <td>Jurassic Park (1993)</td>\n",
       "    </tr>\n",
       "  </tbody>\n",
       "</table>\n",
       "</div>"
      ],
      "text/plain": [
       "      distance                                              movie\n",
       "0     0.000000                                   Toy Story (1995)\n",
       "2506  0.800738                                 Toy Story 2 (1999)\n",
       "232   0.858289          Star Wars: Episode IV - A New Hope (1977)\n",
       "955   0.860058  Raiders of the Lost Ark (Indiana Jones and the...\n",
       "1024  0.870206                          Back to the Future (1985)\n",
       "328   0.872727                              Lion King, The (1994)\n",
       "866   0.874576         Willy Wonka & the Chocolate Factory (1971)\n",
       "966   0.875371  Star Wars: Episode VI - Return of the Jedi (1983)\n",
       "3419  0.875817                                       Shrek (2001)\n",
       "427   0.877005                               Jurassic Park (1993)"
      ]
     },
     "execution_count": 53,
     "metadata": {},
     "output_type": "execute_result"
    }
   ],
   "source": [
    "distances_to_movie = []\n",
    "for other_movies in ratings_matrix.T:\n",
    "    distances_to_movie.append(scipy.spatial.distance.jaccard(movie_toy_story, other_movies.tolist()))\n",
    "     \n",
    "# create dataframe of movie and distance scores to Toy Story \n",
    "distances_to_movie = pd.DataFrame({'movie':movies_df['title'],'distance':distances_to_movie})\n",
    "\n",
    "# sort by ascending distance (i.e. closest to movie_toy_story)\n",
    "distances_to_movie = distances_to_movie.sort_values('distance')\n",
    "distances_to_movie.head(10)"
   ]
  },
  {
   "cell_type": "markdown",
   "metadata": {},
   "source": [
    "## Cosine distance"
   ]
  },
  {
   "cell_type": "code",
   "execution_count": 54,
   "metadata": {},
   "outputs": [
    {
     "data": {
      "text/html": [
       "<div>\n",
       "<style scoped>\n",
       "    .dataframe tbody tr th:only-of-type {\n",
       "        vertical-align: middle;\n",
       "    }\n",
       "\n",
       "    .dataframe tbody tr th {\n",
       "        vertical-align: top;\n",
       "    }\n",
       "\n",
       "    .dataframe thead th {\n",
       "        text-align: right;\n",
       "    }\n",
       "</style>\n",
       "<table border=\"1\" class=\"dataframe\">\n",
       "  <thead>\n",
       "    <tr style=\"text-align: right;\">\n",
       "      <th></th>\n",
       "      <th>distance</th>\n",
       "      <th>movie</th>\n",
       "    </tr>\n",
       "  </thead>\n",
       "  <tbody>\n",
       "    <tr>\n",
       "      <th>0</th>\n",
       "      <td>0.000000</td>\n",
       "      <td>Toy Story (1995)</td>\n",
       "    </tr>\n",
       "    <tr>\n",
       "      <th>2506</th>\n",
       "      <td>0.405290</td>\n",
       "      <td>Toy Story 2 (1999)</td>\n",
       "    </tr>\n",
       "    <tr>\n",
       "      <th>232</th>\n",
       "      <td>0.423812</td>\n",
       "      <td>Star Wars: Episode IV - A New Hope (1977)</td>\n",
       "    </tr>\n",
       "    <tr>\n",
       "      <th>321</th>\n",
       "      <td>0.435466</td>\n",
       "      <td>Forrest Gump (1994)</td>\n",
       "    </tr>\n",
       "    <tr>\n",
       "      <th>644</th>\n",
       "      <td>0.437054</td>\n",
       "      <td>Independence Day (a.k.a. ID4) (1996)</td>\n",
       "    </tr>\n",
       "    <tr>\n",
       "      <th>1019</th>\n",
       "      <td>0.451977</td>\n",
       "      <td>Groundhog Day (1993)</td>\n",
       "    </tr>\n",
       "    <tr>\n",
       "      <th>1024</th>\n",
       "      <td>0.463300</td>\n",
       "      <td>Back to the Future (1985)</td>\n",
       "    </tr>\n",
       "    <tr>\n",
       "      <th>427</th>\n",
       "      <td>0.464803</td>\n",
       "      <td>Jurassic Park (1993)</td>\n",
       "    </tr>\n",
       "    <tr>\n",
       "      <th>3419</th>\n",
       "      <td>0.467315</td>\n",
       "      <td>Shrek (2001)</td>\n",
       "    </tr>\n",
       "    <tr>\n",
       "      <th>966</th>\n",
       "      <td>0.470666</td>\n",
       "      <td>Star Wars: Episode VI - Return of the Jedi (1983)</td>\n",
       "    </tr>\n",
       "  </tbody>\n",
       "</table>\n",
       "</div>"
      ],
      "text/plain": [
       "      distance                                              movie\n",
       "0     0.000000                                   Toy Story (1995)\n",
       "2506  0.405290                                 Toy Story 2 (1999)\n",
       "232   0.423812          Star Wars: Episode IV - A New Hope (1977)\n",
       "321   0.435466                                Forrest Gump (1994)\n",
       "644   0.437054               Independence Day (a.k.a. ID4) (1996)\n",
       "1019  0.451977                               Groundhog Day (1993)\n",
       "1024  0.463300                          Back to the Future (1985)\n",
       "427   0.464803                               Jurassic Park (1993)\n",
       "3419  0.467315                                       Shrek (2001)\n",
       "966   0.470666  Star Wars: Episode VI - Return of the Jedi (1983)"
      ]
     },
     "execution_count": 54,
     "metadata": {},
     "output_type": "execute_result"
    }
   ],
   "source": [
    "distances_to_movie = []\n",
    "for other_movies in ratings_matrix.T:\n",
    "    distances_to_movie.append(scipy.spatial.distance.cosine(movie_toy_story, other_movies.tolist()))\n",
    "     \n",
    "# create dataframe of movie and distance scores to Toy Story \n",
    "distances_to_movie = pd.DataFrame({'movie':movies_df['title'],'distance':distances_to_movie})\n",
    "\n",
    "# sort by ascending distance (i.e. closest to movie_toy_story)\n",
    "distances_to_movie = distances_to_movie.sort_values('distance')\n",
    "distances_to_movie.head(10)"
   ]
  },
  {
   "cell_type": "markdown",
   "metadata": {},
   "source": [
    "## Singular Value Decomposition (SVD) "
   ]
  },
  {
   "cell_type": "code",
   "execution_count": 26,
   "metadata": {},
   "outputs": [],
   "source": [
    "\n",
    "def GetSparseSVD(ratings_centered_matrix, K):\n",
    "    '''\n",
    "    # Compute the largest k singular values/vectors for a sparse matrix.\n",
    "    # k : int, optional\n",
    "    # Number of singular values and vectors to compute. Must be 1 <= k < min(A.shape)\n",
    "    \n",
    "    Returns\n",
    "    u : ndarray, shape=(M, k) Unitary matrix having left singular vectors as columns \n",
    "    sigma : ndarray, shape=(k,k) Diagonal singular values.\n",
    "    vt : ndarray, shape=(k, N)Unitary matrix having right singular vectors as rows\n",
    "    '''\n",
    "\n",
    "    u, s, vt = svds(ratings_centered_matrix, k=K)\n",
    "    # get it back in k diagongal format for matrix multiplication\n",
    "    sigma = np.diag(s)\n",
    "    return u, sigma, vt\n",
    "    \n"
   ]
  },
  {
   "cell_type": "markdown",
   "metadata": {},
   "source": [
    "## Pull out all movie genres for testing"
   ]
  },
  {
   "cell_type": "code",
   "execution_count": 27,
   "metadata": {},
   "outputs": [
    {
     "name": "stdout",
     "output_type": "stream",
     "text": [
      "top_genres:  Drama                    1156\n",
      "Comedy                    804\n",
      "Comedy|Drama              424\n",
      "Documentary               359\n",
      "Drama|Romance             354\n",
      "Comedy|Romance            341\n",
      "Comedy|Drama|Romance      264\n",
      "Horror                    182\n",
      "Drama|Thriller            170\n",
      "Crime|Drama               134\n",
      "Crime|Drama|Thriller      115\n",
      "Horror|Thriller           111\n",
      "Drama|War                 107\n",
      "Comedy|Crime               77\n",
      "Thriller                   74\n",
      "Action|Comedy              67\n",
      "Children|Comedy            64\n",
      "Action|Thriller            57\n",
      "Comedy|Horror              57\n",
      "Action|Crime|Thriller      53\n",
      "Name: genres, dtype: int64\n"
     ]
    }
   ],
   "source": [
    "# get movies by genre\n",
    "top_genres = movies_df['genres'].value_counts(normalize=False)\n",
    "top_genres = top_genres[:20,]\n",
    "print('top_genres: ', top_genres)\n"
   ]
  },
  {
   "cell_type": "code",
   "execution_count": 28,
   "metadata": {},
   "outputs": [
    {
     "data": {
      "text/html": [
       "<div>\n",
       "<style scoped>\n",
       "    .dataframe tbody tr th:only-of-type {\n",
       "        vertical-align: middle;\n",
       "    }\n",
       "\n",
       "    .dataframe tbody tr th {\n",
       "        vertical-align: top;\n",
       "    }\n",
       "\n",
       "    .dataframe thead th {\n",
       "        text-align: right;\n",
       "    }\n",
       "</style>\n",
       "<table border=\"1\" class=\"dataframe\">\n",
       "  <thead>\n",
       "    <tr style=\"text-align: right;\">\n",
       "      <th></th>\n",
       "      <th>movieId</th>\n",
       "      <th>title</th>\n",
       "    </tr>\n",
       "  </thead>\n",
       "  <tbody>\n",
       "    <tr>\n",
       "      <th>39</th>\n",
       "      <td>39</td>\n",
       "      <td>Richard III (1995)</td>\n",
       "    </tr>\n",
       "    <tr>\n",
       "      <th>68</th>\n",
       "      <td>68</td>\n",
       "      <td>Misérables, Les (1995)</td>\n",
       "    </tr>\n",
       "    <tr>\n",
       "      <th>188</th>\n",
       "      <td>188</td>\n",
       "      <td>Before the Rain (Pred dozhdot) (1994)</td>\n",
       "    </tr>\n",
       "    <tr>\n",
       "      <th>301</th>\n",
       "      <td>301</td>\n",
       "      <td>Walking Dead, The (1995)</td>\n",
       "    </tr>\n",
       "    <tr>\n",
       "      <th>472</th>\n",
       "      <td>472</td>\n",
       "      <td>Schindler's List (1993)</td>\n",
       "    </tr>\n",
       "    <tr>\n",
       "      <th>553</th>\n",
       "      <td>553</td>\n",
       "      <td>Land and Freedom (Tierra y libertad) (1995)</td>\n",
       "    </tr>\n",
       "    <tr>\n",
       "      <th>633</th>\n",
       "      <td>633</td>\n",
       "      <td>Stalingrad (1993)</td>\n",
       "    </tr>\n",
       "    <tr>\n",
       "      <th>784</th>\n",
       "      <td>784</td>\n",
       "      <td>A Walk in the Sun (1945)</td>\n",
       "    </tr>\n",
       "    <tr>\n",
       "      <th>881</th>\n",
       "      <td>881</td>\n",
       "      <td>Platoon (1986)</td>\n",
       "    </tr>\n",
       "    <tr>\n",
       "      <th>922</th>\n",
       "      <td>922</td>\n",
       "      <td>Tin Drum, The (Blechtrommel, Die) (1979)</td>\n",
       "    </tr>\n",
       "    <tr>\n",
       "      <th>937</th>\n",
       "      <td>937</td>\n",
       "      <td>Paths of Glory (1957)</td>\n",
       "    </tr>\n",
       "    <tr>\n",
       "      <th>973</th>\n",
       "      <td>973</td>\n",
       "      <td>Ran (1985)</td>\n",
       "    </tr>\n",
       "    <tr>\n",
       "      <th>978</th>\n",
       "      <td>978</td>\n",
       "      <td>Full Metal Jacket (1987)</td>\n",
       "    </tr>\n",
       "    <tr>\n",
       "      <th>996</th>\n",
       "      <td>996</td>\n",
       "      <td>Glory (1989)</td>\n",
       "    </tr>\n",
       "    <tr>\n",
       "      <th>1017</th>\n",
       "      <td>1017</td>\n",
       "      <td>Deer Hunter, The (1978)</td>\n",
       "    </tr>\n",
       "    <tr>\n",
       "      <th>1026</th>\n",
       "      <td>1026</td>\n",
       "      <td>Patton (1970)</td>\n",
       "    </tr>\n",
       "    <tr>\n",
       "      <th>1052</th>\n",
       "      <td>1052</td>\n",
       "      <td>Killing Fields, The (1984)</td>\n",
       "    </tr>\n",
       "    <tr>\n",
       "      <th>1214</th>\n",
       "      <td>1214</td>\n",
       "      <td>Paradise Road (1997)</td>\n",
       "    </tr>\n",
       "    <tr>\n",
       "      <th>1327</th>\n",
       "      <td>1327</td>\n",
       "      <td>Welcome to Sarajevo (1997)</td>\n",
       "    </tr>\n",
       "    <tr>\n",
       "      <th>1347</th>\n",
       "      <td>1347</td>\n",
       "      <td>Bent (1997)</td>\n",
       "    </tr>\n",
       "    <tr>\n",
       "      <th>1498</th>\n",
       "      <td>1498</td>\n",
       "      <td>Mrs. Miniver (1942)</td>\n",
       "    </tr>\n",
       "    <tr>\n",
       "      <th>1501</th>\n",
       "      <td>1501</td>\n",
       "      <td>Best Years of Our Lives, The (1946)</td>\n",
       "    </tr>\n",
       "    <tr>\n",
       "      <th>1635</th>\n",
       "      <td>1635</td>\n",
       "      <td>Mephisto (1981)</td>\n",
       "    </tr>\n",
       "    <tr>\n",
       "      <th>1666</th>\n",
       "      <td>1666</td>\n",
       "      <td>Swing Kids (1993)</td>\n",
       "    </tr>\n",
       "    <tr>\n",
       "      <th>1749</th>\n",
       "      <td>1749</td>\n",
       "      <td>Lifeboat (1944)</td>\n",
       "    </tr>\n",
       "    <tr>\n",
       "      <th>2384</th>\n",
       "      <td>2384</td>\n",
       "      <td>Red Sorghum (Hong gao liang) (1987)</td>\n",
       "    </tr>\n",
       "    <tr>\n",
       "      <th>2454</th>\n",
       "      <td>2454</td>\n",
       "      <td>Messenger: The Story of Joan of Arc, The (1999)</td>\n",
       "    </tr>\n",
       "    <tr>\n",
       "      <th>2484</th>\n",
       "      <td>2484</td>\n",
       "      <td>Kagemusha (1980)</td>\n",
       "    </tr>\n",
       "    <tr>\n",
       "      <th>2520</th>\n",
       "      <td>2520</td>\n",
       "      <td>Grand Illusion (La grande illusion) (1937)</td>\n",
       "    </tr>\n",
       "    <tr>\n",
       "      <th>2527</th>\n",
       "      <td>2527</td>\n",
       "      <td>Hell in the Pacific (1968)</td>\n",
       "    </tr>\n",
       "    <tr>\n",
       "      <th>2568</th>\n",
       "      <td>2568</td>\n",
       "      <td>Stalag 17 (1953)</td>\n",
       "    </tr>\n",
       "    <tr>\n",
       "      <th>2674</th>\n",
       "      <td>2674</td>\n",
       "      <td>Birdy (1984)</td>\n",
       "    </tr>\n",
       "    <tr>\n",
       "      <th>2695</th>\n",
       "      <td>2695</td>\n",
       "      <td>Hangmen Also Die! (1943)</td>\n",
       "    </tr>\n",
       "    <tr>\n",
       "      <th>2976</th>\n",
       "      <td>2976</td>\n",
       "      <td>Coming Home (1978)</td>\n",
       "    </tr>\n",
       "    <tr>\n",
       "      <th>2994</th>\n",
       "      <td>2994</td>\n",
       "      <td>Battleship Potemkin (1925)</td>\n",
       "    </tr>\n",
       "    <tr>\n",
       "      <th>3047</th>\n",
       "      <td>3047</td>\n",
       "      <td>Breaker Morant (1980)</td>\n",
       "    </tr>\n",
       "    <tr>\n",
       "      <th>3189</th>\n",
       "      <td>3189</td>\n",
       "      <td>Eagle Has Landed, The (1976)</td>\n",
       "    </tr>\n",
       "    <tr>\n",
       "      <th>3210</th>\n",
       "      <td>3210</td>\n",
       "      <td>Born on the Fourth of July (1989)</td>\n",
       "    </tr>\n",
       "    <tr>\n",
       "      <th>3244</th>\n",
       "      <td>3244</td>\n",
       "      <td>Gettysburg (1993)</td>\n",
       "    </tr>\n",
       "    <tr>\n",
       "      <th>3285</th>\n",
       "      <td>3285</td>\n",
       "      <td>Gardens of Stone (1987)</td>\n",
       "    </tr>\n",
       "  </tbody>\n",
       "</table>\n",
       "</div>"
      ],
      "text/plain": [
       "      movieId                                            title\n",
       "39         39                               Richard III (1995)\n",
       "68         68                           Misérables, Les (1995)\n",
       "188       188            Before the Rain (Pred dozhdot) (1994)\n",
       "301       301                         Walking Dead, The (1995)\n",
       "472       472                          Schindler's List (1993)\n",
       "553       553      Land and Freedom (Tierra y libertad) (1995)\n",
       "633       633                                Stalingrad (1993)\n",
       "784       784                         A Walk in the Sun (1945)\n",
       "881       881                                   Platoon (1986)\n",
       "922       922         Tin Drum, The (Blechtrommel, Die) (1979)\n",
       "937       937                            Paths of Glory (1957)\n",
       "973       973                                       Ran (1985)\n",
       "978       978                         Full Metal Jacket (1987)\n",
       "996       996                                     Glory (1989)\n",
       "1017     1017                          Deer Hunter, The (1978)\n",
       "1026     1026                                    Patton (1970)\n",
       "1052     1052                       Killing Fields, The (1984)\n",
       "1214     1214                             Paradise Road (1997)\n",
       "1327     1327                       Welcome to Sarajevo (1997)\n",
       "1347     1347                                      Bent (1997)\n",
       "1498     1498                              Mrs. Miniver (1942)\n",
       "1501     1501              Best Years of Our Lives, The (1946)\n",
       "1635     1635                                  Mephisto (1981)\n",
       "1666     1666                                Swing Kids (1993)\n",
       "1749     1749                                  Lifeboat (1944)\n",
       "2384     2384              Red Sorghum (Hong gao liang) (1987)\n",
       "2454     2454  Messenger: The Story of Joan of Arc, The (1999)\n",
       "2484     2484                                 Kagemusha (1980)\n",
       "2520     2520       Grand Illusion (La grande illusion) (1937)\n",
       "2527     2527                       Hell in the Pacific (1968)\n",
       "2568     2568                                 Stalag 17 (1953)\n",
       "2674     2674                                     Birdy (1984)\n",
       "2695     2695                         Hangmen Also Die! (1943)\n",
       "2976     2976                               Coming Home (1978)\n",
       "2994     2994                       Battleship Potemkin (1925)\n",
       "3047     3047                            Breaker Morant (1980)\n",
       "3189     3189                     Eagle Has Landed, The (1976)\n",
       "3210     3210                Born on the Fourth of July (1989)\n",
       "3244     3244                                Gettysburg (1993)\n",
       "3285     3285                          Gardens of Stone (1987)"
      ]
     },
     "execution_count": 28,
     "metadata": {},
     "output_type": "execute_result"
    }
   ],
   "source": [
    "\n",
    "# get selection of movies for a particular genre to test out SVD model\n",
    "movies_df[movies_df['genres']== 'Drama|War'][['movieId', 'title']].head(40)"
   ]
  },
  {
   "cell_type": "markdown",
   "metadata": {},
   "source": [
    "## Our fictional user's movie preferences"
   ]
  },
  {
   "cell_type": "code",
   "execution_count": 29,
   "metadata": {},
   "outputs": [
    {
     "data": {
      "text/html": [
       "<div>\n",
       "<style scoped>\n",
       "    .dataframe tbody tr th:only-of-type {\n",
       "        vertical-align: middle;\n",
       "    }\n",
       "\n",
       "    .dataframe tbody tr th {\n",
       "        vertical-align: top;\n",
       "    }\n",
       "\n",
       "    .dataframe thead th {\n",
       "        text-align: right;\n",
       "    }\n",
       "</style>\n",
       "<table border=\"1\" class=\"dataframe\">\n",
       "  <thead>\n",
       "    <tr style=\"text-align: right;\">\n",
       "      <th></th>\n",
       "      <th>movieId</th>\n",
       "      <th>title</th>\n",
       "      <th>genres</th>\n",
       "    </tr>\n",
       "  </thead>\n",
       "  <tbody>\n",
       "    <tr>\n",
       "      <th>188</th>\n",
       "      <td>188</td>\n",
       "      <td>Before the Rain (Pred dozhdot) (1994)</td>\n",
       "      <td>Drama|War</td>\n",
       "    </tr>\n",
       "    <tr>\n",
       "      <th>301</th>\n",
       "      <td>301</td>\n",
       "      <td>Walking Dead, The (1995)</td>\n",
       "      <td>Drama|War</td>\n",
       "    </tr>\n",
       "    <tr>\n",
       "      <th>472</th>\n",
       "      <td>472</td>\n",
       "      <td>Schindler's List (1993)</td>\n",
       "      <td>Drama|War</td>\n",
       "    </tr>\n",
       "  </tbody>\n",
       "</table>\n",
       "</div>"
      ],
      "text/plain": [
       "     movieId                                  title     genres\n",
       "188      188  Before the Rain (Pred dozhdot) (1994)  Drama|War\n",
       "301      301               Walking Dead, The (1995)  Drama|War\n",
       "472      472                Schindler's List (1993)  Drama|War"
      ]
     },
     "execution_count": 29,
     "metadata": {},
     "output_type": "execute_result"
    }
   ],
   "source": [
    "user_history_movie_ids_fake = [301, 472, 188]\n",
    "movies_df[movies_df['movieId'].isin([301, 472, 188])]"
   ]
  },
  {
   "cell_type": "markdown",
   "metadata": {},
   "source": [
    "# Let's abstract out our functions for the web appliction"
   ]
  },
  {
   "cell_type": "code",
   "execution_count": 30,
   "metadata": {},
   "outputs": [
    {
     "name": "stdout",
     "output_type": "stream",
     "text": [
      "Recomended movies: ('Forrest Gump (1994)', 'Saving Private Ryan (1998)', 'Shawshank Redemption, The (1994)')\n"
     ]
    }
   ],
   "source": [
    "MOVIE_GENRES = [\"Action\", \"Adventure\", \"Animation\", \"Children\", \"Comedy\", \"Crime\",\n",
    "                \"Documentary\", \"Drama\", \"Fantasy\", \"Film-Noir\", \"Horror\",\n",
    "                \"IMAX\", \"Musical\", \"Mystery\", \"Romance\", \"Sci-Fi\", \"Thriller\",\n",
    "                \"War\", \"Western\"]\n",
    "\n",
    "ratings_df\n",
    "movies_df\n",
    "from scipy.sparse.linalg import svds\n",
    "\n",
    "def startup():\n",
    "    global ratings_df, movies_df\n",
    "    # load data sets\n",
    "    # fix all userIds and movieIds\n",
    "    movies_df_raw = pd.read_csv('ml-latest-small/movies.csv')\n",
    "    # movies_df_raw['movieId_new'] = movies_df_raw.index\n",
    "\n",
    "    # remove timestamp from original ratings_df_raw\n",
    "    ratings_df_raw = pd.read_csv('ml-latest-small/ratings.csv')\n",
    "    ratings_df_raw = ratings_df_raw[['userId', 'movieId', 'rating']]\n",
    "\n",
    "    # remove any movies not found in the ratings set\n",
    "    movies_df_raw = movies_df_raw[movies_df_raw['movieId'].isin(ratings_df_raw['movieId'])]\n",
    "\n",
    "    # reset index\n",
    "    movies_df_raw = movies_df_raw.reset_index(drop=True)\n",
    "    movies_df_raw['movieId_new'] = movies_df_raw.index\n",
    "\n",
    "    # make all ratings movieIds the same\n",
    "    ratings_df_raw = ratings_df_raw.merge(movies_df_raw[['movieId', 'movieId_new']], on='movieId', how='inner') \n",
    "    ratings_df_raw = ratings_df_raw[['userId',  'movieId_new', 'rating']]\n",
    "    ratings_df_raw.columns = ['userId',  'movieId', 'rating']\n",
    "    # clean up userids to start at 0 not 1\n",
    "    ratings_df_raw['userId'] -= 1\n",
    "\n",
    "    movies_df_raw = movies_df_raw[['movieId_new', 'title', 'genres']]\n",
    "    movies_df_raw.columns = ['movieId', 'title', 'genres']\n",
    "    movies_df = movies_df_raw.copy()\n",
    "\n",
    "    # set userId and movieId as indexes in order to make them as x and y axis of sparse matrix\n",
    "    ratings_df = ratings_df_raw.copy()\n",
    "    \n",
    "def GetMoviesByGenres(movies_df, genre):\n",
    "    # Returns a list of all movies and movie IDs for a particular genre. \n",
    "    # It is called whenever a user changes the \"Movie Genre\" drop-down box\n",
    "    \n",
    "    movies_of_type = movies_df[movies_df['genres'].str.contains(genre)].sort_values('title')\n",
    "    movie_ids = list(movies_of_type['movieId'].values)\n",
    "    movie_titles = [x[0:50] for x in list(movies_of_type['title'].values)]\n",
    "\n",
    "    return (movie_ids, movie_titles)\n",
    "\n",
    "def GetRecommendedMovies(ratings_df, movies_df, user_history_movie_ids):\n",
    "    # based on https://beckernick.github.io/matrix-factorization-recommender/\n",
    "    # add back to ratings_matrix_centered\n",
    "    ratings_df_cp = ratings_df.copy()\n",
    "\n",
    "    # create a new user id - add 1 to current largest\n",
    "    new_user_id = np.max(ratings_df_cp['userId']) + 1\n",
    "\n",
    "    new_user_movie_ids = user_history_movie_ids\n",
    "    new_user_ratings = \t[4.5] * len(new_user_movie_ids)\n",
    "\n",
    "    # fix index to be multilevel with userId and movieId\n",
    "    ratings_df_cp.set_index(['userId', 'movieId'], inplace=True)\n",
    "\n",
    "    for idx in range(len(new_user_movie_ids)):\n",
    "        # add new movie rating as a pandas series and insert new row at end of ratings_df_cp\n",
    "        row_to_append = pd.Series([new_user_ratings[idx]])\n",
    "        cols = ['rating']\n",
    "        ratings_df_cp.loc[(new_user_id, new_user_movie_ids[idx]), cols] = row_to_append.values\n",
    "\n",
    "    # create new ratings_matrix\n",
    "    ratings_matrix_plus = sps.csr_matrix((ratings_df_cp.rating, \n",
    "                          (ratings_df_cp.index.labels[0], ratings_df_cp.index.labels[1]))).todense()\n",
    "\n",
    "    user_ratings_mean = np.mean(ratings_matrix_plus, axis = 1)\n",
    "    ratings_matrix_centered = ratings_matrix_plus - user_ratings_mean.reshape(-1, 1)\n",
    "\n",
    "    Ua, sigma, Vt = GetSparseSVD(ratings_matrix_centered, K=50)\n",
    "    all_user_predicted_ratings = np.dot(np.dot(Ua, sigma), Vt) + user_ratings_mean.reshape(-1, 1)\n",
    "    # predictions_df based on row/col ids, not original movie ids\n",
    "    predictions_df = pd.DataFrame(all_user_predicted_ratings, columns = movies_df.index)  \n",
    "\n",
    "    # Get and sort the user's predictions\n",
    "    sorted_user_predictions = predictions_df.iloc[new_user_id].sort_values(ascending=False)\n",
    "    sorted_user_predictions = pd.DataFrame(sorted_user_predictions).reset_index()\n",
    "    sorted_user_predictions.columns = ['movieId', 'predictions']\n",
    "    sorted_user_predictions = sorted_user_predictions.merge(movies_df, left_on='movieId', \n",
    "                        right_on='movieId', how='inner').sort_values('predictions', ascending=False)\n",
    "    sorted_user_predictions = sorted_user_predictions[~sorted_user_predictions['movieId'].isin(new_user_movie_ids)]\n",
    "    movie_titles = [x[0:50] for x in list(sorted_user_predictions['title'].values)][0:3]\n",
    "    return(movie_titles[0], movie_titles[1], movie_titles[2])\n",
    " \n",
    "# testing \n",
    "startup()\n",
    "print('Recomended movies:', GetRecommendedMovies(ratings_df, movies_df, user_history_movie_ids_fake))\n",
    "        "
   ]
  },
  {
   "cell_type": "code",
   "execution_count": 31,
   "metadata": {},
   "outputs": [
    {
     "data": {
      "text/html": [
       "<div>\n",
       "<style scoped>\n",
       "    .dataframe tbody tr th:only-of-type {\n",
       "        vertical-align: middle;\n",
       "    }\n",
       "\n",
       "    .dataframe tbody tr th {\n",
       "        vertical-align: top;\n",
       "    }\n",
       "\n",
       "    .dataframe thead th {\n",
       "        text-align: right;\n",
       "    }\n",
       "</style>\n",
       "<table border=\"1\" class=\"dataframe\">\n",
       "  <thead>\n",
       "    <tr style=\"text-align: right;\">\n",
       "      <th></th>\n",
       "      <th>userId</th>\n",
       "      <th>movieId</th>\n",
       "      <th>rating</th>\n",
       "    </tr>\n",
       "  </thead>\n",
       "  <tbody>\n",
       "    <tr>\n",
       "      <th>0</th>\n",
       "      <td>0</td>\n",
       "      <td>30</td>\n",
       "      <td>2.5</td>\n",
       "    </tr>\n",
       "    <tr>\n",
       "      <th>1</th>\n",
       "      <td>6</td>\n",
       "      <td>30</td>\n",
       "      <td>3.0</td>\n",
       "    </tr>\n",
       "    <tr>\n",
       "      <th>2</th>\n",
       "      <td>30</td>\n",
       "      <td>30</td>\n",
       "      <td>4.0</td>\n",
       "    </tr>\n",
       "    <tr>\n",
       "      <th>3</th>\n",
       "      <td>31</td>\n",
       "      <td>30</td>\n",
       "      <td>4.0</td>\n",
       "    </tr>\n",
       "    <tr>\n",
       "      <th>4</th>\n",
       "      <td>35</td>\n",
       "      <td>30</td>\n",
       "      <td>3.0</td>\n",
       "    </tr>\n",
       "  </tbody>\n",
       "</table>\n",
       "</div>"
      ],
      "text/plain": [
       "   userId  movieId  rating\n",
       "0       0       30     2.5\n",
       "1       6       30     3.0\n",
       "2      30       30     4.0\n",
       "3      31       30     4.0\n",
       "4      35       30     3.0"
      ]
     },
     "execution_count": 31,
     "metadata": {},
     "output_type": "execute_result"
    }
   ],
   "source": [
    "ratings_df.head()"
   ]
  },
  {
   "cell_type": "code",
   "execution_count": null,
   "metadata": {},
   "outputs": [],
   "source": []
  }
 ],
 "metadata": {
  "kernelspec": {
   "display_name": "Python 3",
   "language": "python",
   "name": "python3"
  },
  "language_info": {
   "codemirror_mode": {
    "name": "ipython",
    "version": 3
   },
   "file_extension": ".py",
   "mimetype": "text/x-python",
   "name": "python",
   "nbconvert_exporter": "python",
   "pygments_lexer": "ipython3",
   "version": "3.6.3"
  }
 },
 "nbformat": 4,
 "nbformat_minor": 2
}
